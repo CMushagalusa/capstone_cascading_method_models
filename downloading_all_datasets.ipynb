{
 "cells": [
  {
   "cell_type": "markdown",
   "id": "3d038944-a691-44d8-9c4e-16e5e18e27fc",
   "metadata": {},
   "source": [
    "#### ============  Ashesi University\n",
    "#### ============  Department of Computer Science and Information Systems\n",
    "#### ============  \"A Novel Cascading Method for Threats Detection Using Deep Learning Models\"\n",
    "#### ============  Clovis Mushagalusa CIRUBAKADERHA"
   ]
  },
  {
   "cell_type": "code",
   "execution_count": null,
   "id": "46243aac-e886-45de-8af0-e97306a312a9",
   "metadata": {},
   "outputs": [],
   "source": []
  },
  {
   "cell_type": "markdown",
   "id": "6167b39d-9a96-41b7-a42c-4f403a245b50",
   "metadata": {},
   "source": [
    "### ===================  Downloading the dataset  ==================="
   ]
  },
  {
   "cell_type": "markdown",
   "id": "dd797195-4ad3-40b7-ac7c-b18824178a61",
   "metadata": {},
   "source": [
    "==============================  Importing Necessary Libraries  ==============================  "
   ]
  },
  {
   "cell_type": "code",
   "execution_count": null,
   "id": "c1dd69fa-57fb-46f0-8ebe-b04f5eb44f25",
   "metadata": {},
   "outputs": [],
   "source": [
    "import gdown\n",
    "import pandas as pd"
   ]
  },
  {
   "cell_type": "markdown",
   "id": "1e5d5fe9-cf8b-4174-8a6f-3bbe642f7a53",
   "metadata": {},
   "source": [
    "===============================  Downloading Using Gdown  ===============================  "
   ]
  },
  {
   "cell_type": "code",
   "execution_count": null,
   "id": "8c903cdb-b89c-4514-bf6d-6958bd9d1f89",
   "metadata": {},
   "outputs": [],
   "source": [
    "# DrDoS_DNS Dataset\n",
    "\n",
    "drdos_dns_url = \"https://drive.google.com/uc?id=10NeoNf1rVL_AlDHDx2lU3OkZlaSf3uYr\"\n",
    "drdos_dns_file = \"DrDoS_DNS.csv\""
   ]
  },
  {
   "cell_type": "code",
   "execution_count": null,
   "id": "df847977-c8ed-45fa-a680-ae0cb5e57b0d",
   "metadata": {},
   "outputs": [],
   "source": [
    "gdown.download(drdos_dns_url, drdos_dns_file, quiet=False)"
   ]
  },
  {
   "cell_type": "code",
   "execution_count": null,
   "id": "e7a55cee-8ad1-46a5-87db-f8e9392fb67a",
   "metadata": {},
   "outputs": [],
   "source": [
    "# Loading the csv file\n",
    "\n",
    "drdos_dns_dataset = pd.read_csv(drdos_dns_file)"
   ]
  },
  {
   "cell_type": "code",
   "execution_count": null,
   "id": "138722bf-c0da-4e29-a14e-3a3f206977f7",
   "metadata": {},
   "outputs": [],
   "source": [
    "drdos_dns_dataset.head()"
   ]
  },
  {
   "cell_type": "code",
   "execution_count": null,
   "id": "b4999cc3-b795-4bad-bfeb-0686ca2b8c23",
   "metadata": {},
   "outputs": [],
   "source": [
    "drdos_dns_dataset.shape"
   ]
  },
  {
   "cell_type": "code",
   "execution_count": null,
   "id": "177cb74b-d69a-4d63-9c17-843a44422683",
   "metadata": {},
   "outputs": [],
   "source": [
    "drdos_dns_dataset[\" Label\"].value_counts()"
   ]
  },
  {
   "cell_type": "code",
   "execution_count": null,
   "id": "b030129f-edc7-4de8-8120-920ff4e36b32",
   "metadata": {},
   "outputs": [],
   "source": [
    "# DrDoS_LDAP Dataset\n",
    "\n",
    "drdos_ldap_url = \"https://drive.google.com/uc?id=1fdJwte72kTAV5JDBpB4twxen95nvsWTj\"\n",
    "drdos_ldap_file = \"DrDoS_LDAP.csv\""
   ]
  },
  {
   "cell_type": "code",
   "execution_count": null,
   "id": "a4b6aa27-635e-49a6-9acf-8cea7535469a",
   "metadata": {},
   "outputs": [],
   "source": [
    "gdown.download(drdos_ldap_url, drdos_ldap_file, quiet=False)"
   ]
  },
  {
   "cell_type": "code",
   "execution_count": null,
   "id": "c256a47c-0b42-48fc-8c93-6b794850d5da",
   "metadata": {},
   "outputs": [],
   "source": [
    "# Loading the csv file\n",
    "\n",
    "drdos_ldap_dataset = pd.read_csv(drdos_ldap_file)"
   ]
  },
  {
   "cell_type": "code",
   "execution_count": null,
   "id": "f8ac9be3-18de-4262-b0d7-85f81fca3f53",
   "metadata": {},
   "outputs": [],
   "source": [
    "drdos_ldap_dataset.head()"
   ]
  },
  {
   "cell_type": "code",
   "execution_count": null,
   "id": "7669668a-f043-4268-8deb-ef22da9604e5",
   "metadata": {},
   "outputs": [],
   "source": [
    "drdos_ldap_dataset.shape"
   ]
  },
  {
   "cell_type": "code",
   "execution_count": null,
   "id": "7223b198-67ac-4ce8-ab68-0219c4dcbc42",
   "metadata": {},
   "outputs": [],
   "source": [
    "drdos_ldap_dataset[\" Label\"].value_counts()"
   ]
  },
  {
   "cell_type": "code",
   "execution_count": null,
   "id": "081fff5b-1862-476b-8e7a-7ca4e90f68a3",
   "metadata": {},
   "outputs": [],
   "source": [
    "# DrDoS_MSSQL Dataset\n",
    "\n",
    "drdos_mssql_url = \"https://drive.google.com/uc?id=11pYqx_S2INwUsY6YfFrTkDkyJxnJ_hyx\"\n",
    "drdos_mssql_file = \"DrDoS_MSSQL.csv\""
   ]
  },
  {
   "cell_type": "code",
   "execution_count": null,
   "id": "dce7ec80-e19c-4167-9003-7d3417c131b1",
   "metadata": {},
   "outputs": [],
   "source": [
    "gdown.download(drdos_mssql_url, drdos_mssql_file, quiet=False)"
   ]
  },
  {
   "cell_type": "code",
   "execution_count": null,
   "id": "4f2c41db-f22d-46eb-be36-37d60f08db78",
   "metadata": {},
   "outputs": [],
   "source": [
    "# Loading the csv file\n",
    "\n",
    "drdos_mssql_dataset = pd.read_csv(drdos_mssql_file)"
   ]
  },
  {
   "cell_type": "code",
   "execution_count": null,
   "id": "a4402993-cee2-4fcb-b681-a0c2a3f423a0",
   "metadata": {},
   "outputs": [],
   "source": [
    "drdos_mssql_dataset.head()"
   ]
  },
  {
   "cell_type": "code",
   "execution_count": null,
   "id": "d38839f7-4565-4021-9762-5d1158803d0f",
   "metadata": {},
   "outputs": [],
   "source": [
    "drdos_mssql_dataset.shape"
   ]
  },
  {
   "cell_type": "code",
   "execution_count": null,
   "id": "3de950d4-98d3-427c-ad0f-d9128bab2470",
   "metadata": {},
   "outputs": [],
   "source": [
    "drdos_mssql_dataset[\" Label\"].value_counts()"
   ]
  },
  {
   "cell_type": "code",
   "execution_count": null,
   "id": "08f70e42-4e36-4ceb-af28-19072f15b96e",
   "metadata": {},
   "outputs": [],
   "source": [
    "# DrDoS_NTP Dataset\n",
    "\n",
    "drdos_ntp_url = \"https://drive.google.com/uc?id=1RBW4szO9AK0Gejp6W6PfJfHL4_DlR8iv\"\n",
    "drdos_ntp_file = \"DrDoS_NTP.csv\""
   ]
  },
  {
   "cell_type": "code",
   "execution_count": null,
   "id": "414ee2f0-ebcb-4edf-a12a-7d474cffa15d",
   "metadata": {},
   "outputs": [],
   "source": [
    "gdown.download(drdos_ntp_url, drdos_ldap_file, quiet=False)"
   ]
  },
  {
   "cell_type": "code",
   "execution_count": null,
   "id": "f2938a27-4b21-42c1-8e73-83724f207c89",
   "metadata": {},
   "outputs": [],
   "source": [
    "# Loading the csv file\n",
    "\n",
    "drdos_ntp_dataset = pd.read_csv(drdos_ntp_file)"
   ]
  },
  {
   "cell_type": "code",
   "execution_count": null,
   "id": "3d374f43-2814-4220-a08a-36c338ac6d95",
   "metadata": {},
   "outputs": [],
   "source": [
    "drdos_ntp_dataset.head()"
   ]
  },
  {
   "cell_type": "code",
   "execution_count": null,
   "id": "d53c51b2-6222-46c7-9bb3-e93870651ebf",
   "metadata": {},
   "outputs": [],
   "source": [
    "drdos_ntp_datset.shape"
   ]
  },
  {
   "cell_type": "code",
   "execution_count": null,
   "id": "1a27d6c8-1e20-4f4f-9064-29d9b27bcfb2",
   "metadata": {},
   "outputs": [],
   "source": [
    "drdos_ntp_dataset[\" Label\"].value_counts()"
   ]
  },
  {
   "cell_type": "code",
   "execution_count": null,
   "id": "750d28f3-d664-4a86-914c-c555ce1e85fa",
   "metadata": {},
   "outputs": [],
   "source": [
    "# DrDoS_SSDP Dataset\n",
    "\n",
    "drdos_ssdp_url = \"https://drive.google.com/uc?id=1BwFziCVyj8V8pUxK-n0Foxh4nHNvji43\"\n",
    "drdos_ssdp_file = \"DrDoS_SSDP.csv\""
   ]
  },
  {
   "cell_type": "code",
   "execution_count": null,
   "id": "3d7b036b-2aa7-4b8c-b48e-c30cba6d731b",
   "metadata": {},
   "outputs": [],
   "source": [
    "gdwon.download(drdos_ssdp_url, drdos_ssdp_file, quiet=False)"
   ]
  },
  {
   "cell_type": "code",
   "execution_count": null,
   "id": "2a74a0a8-c8b9-4439-9a90-9c01307d61f9",
   "metadata": {},
   "outputs": [],
   "source": [
    "# Loading the csv file\n",
    "\n",
    "drdos_ssdp_dataset = pd.read_csv(drdos_ssdp_file)"
   ]
  },
  {
   "cell_type": "code",
   "execution_count": null,
   "id": "ae03843f-ecf7-4089-b699-a1305b07b5b5",
   "metadata": {},
   "outputs": [],
   "source": [
    "drdos_ssdp_dataset.head()"
   ]
  },
  {
   "cell_type": "code",
   "execution_count": null,
   "id": "a8d5c7e4-3e3c-4650-b8d3-1a135742f648",
   "metadata": {},
   "outputs": [],
   "source": [
    "drdos_ssdp_dataset.shape"
   ]
  },
  {
   "cell_type": "code",
   "execution_count": null,
   "id": "382a66aa-56cb-4495-83cf-a50db6f6d904",
   "metadata": {},
   "outputs": [],
   "source": [
    "drdos_ssdp_dataset[\" Label\"].value_counts()"
   ]
  },
  {
   "cell_type": "code",
   "execution_count": null,
   "id": "064d34b2-7b67-4c5d-9483-85099d03c259",
   "metadata": {},
   "outputs": [],
   "source": [
    "# DrDoS_UDP Dataset\n",
    "\n",
    "drdos_udp_url = \"https://drive.google.com/uc?id=19Z9WwS5ot7Fd3P5MKncG0Y6lW5kJy-Wt\"\n",
    "drdos_udp_file = \"DrDoS_UDP.csv\""
   ]
  },
  {
   "cell_type": "code",
   "execution_count": null,
   "id": "303ffc2a-ef23-444a-962e-9bb9f047815f",
   "metadata": {},
   "outputs": [],
   "source": [
    "gdown.download(drdos_udp_url, drdos_udp_file, quiet=False)"
   ]
  },
  {
   "cell_type": "code",
   "execution_count": null,
   "id": "228a5d26-5777-4b29-81cb-cf80e6f65833",
   "metadata": {},
   "outputs": [],
   "source": [
    "# Loading the csv file\n",
    "\n",
    "drdos_udp_dataset = pd.read_csv(drdos_udp_file)"
   ]
  },
  {
   "cell_type": "code",
   "execution_count": null,
   "id": "e54ea806-092a-44ed-a52d-08ae519e1af1",
   "metadata": {},
   "outputs": [],
   "source": [
    "drdos_udp_dataset.head()"
   ]
  },
  {
   "cell_type": "code",
   "execution_count": null,
   "id": "43f380c5-70d9-4cbb-84a3-f93f293efffc",
   "metadata": {},
   "outputs": [],
   "source": [
    "drdos_udp_dataset.shape"
   ]
  },
  {
   "cell_type": "code",
   "execution_count": null,
   "id": "5b94d558-0ae9-490b-8bce-d02187f435a3",
   "metadata": {},
   "outputs": [],
   "source": [
    "drdos_udp_dataset[\" Label\"].value_counts()"
   ]
  },
  {
   "cell_type": "code",
   "execution_count": null,
   "id": "791028e6-e892-449e-bbce-ca9c6aa14936",
   "metadata": {},
   "outputs": [],
   "source": [
    "# LDAP Dataset\n",
    "\n",
    "ldap_url = \"https://drive.google.com/uc?id=1T7Nk7skCg_2dh7yk7rucFEELvZWvTtu1\"\n",
    "ldap_file = \"LDAP.csv\""
   ]
  },
  {
   "cell_type": "code",
   "execution_count": null,
   "id": "d8d95f3f-bb27-4c95-b957-97072806d1cb",
   "metadata": {},
   "outputs": [],
   "source": [
    "gdown.download(ldap_url, ldap_file, quiet=False)"
   ]
  },
  {
   "cell_type": "code",
   "execution_count": null,
   "id": "3baa57b4-f0a5-4f89-99e7-1b9cb5e00cfa",
   "metadata": {},
   "outputs": [],
   "source": [
    "# Loading the csv file\n",
    "\n",
    "ldap_dataset = pd.read_csv(ldap_file)"
   ]
  },
  {
   "cell_type": "code",
   "execution_count": null,
   "id": "e8ca624e-5752-4a04-bc62-4bc2667ca0fd",
   "metadata": {},
   "outputs": [],
   "source": [
    "ldap_dataset.head()"
   ]
  },
  {
   "cell_type": "code",
   "execution_count": null,
   "id": "bf4048de-386c-4604-a746-352c49211b1a",
   "metadata": {},
   "outputs": [],
   "source": [
    "ldap_dataset.shape"
   ]
  },
  {
   "cell_type": "code",
   "execution_count": null,
   "id": "5f789b57-8c9b-4148-8941-de4c316c8b94",
   "metadata": {},
   "outputs": [],
   "source": [
    "ldap_dataset[\" Label\"].value_counts()"
   ]
  },
  {
   "cell_type": "code",
   "execution_count": null,
   "id": "27301800-801d-4b5a-a899-20f497a97c4c",
   "metadata": {},
   "outputs": [],
   "source": [
    "# MSSQL Dataset\n",
    "\n",
    "mssql_url = \"https://drive.google.com/uc?id=1fWel5VyAEDG4162y9jj-4wBM0xWLW_rg\"\n",
    "mssql_file = \"MSSQL.csv\""
   ]
  },
  {
   "cell_type": "code",
   "execution_count": null,
   "id": "bd13509a-ed46-4cbb-85f9-748874561b44",
   "metadata": {},
   "outputs": [],
   "source": [
    "gdown.download(mssql_url, mssql_file, quiet=False)"
   ]
  },
  {
   "cell_type": "code",
   "execution_count": null,
   "id": "e9c0bbcd-adae-4d06-ba98-b728bf3a3cb3",
   "metadata": {},
   "outputs": [],
   "source": [
    "# Loading the csv file\n",
    "\n",
    "mssql_dataset = pd.read_csv(mssql_file)"
   ]
  },
  {
   "cell_type": "code",
   "execution_count": null,
   "id": "04608e9f-e628-4e08-98a1-de953301fab4",
   "metadata": {},
   "outputs": [],
   "source": [
    "mssql_dataset.head()"
   ]
  },
  {
   "cell_type": "code",
   "execution_count": null,
   "id": "99d74cd1-abc3-4f42-9cd4-6a9fe5e32820",
   "metadata": {},
   "outputs": [],
   "source": [
    "mssql_dataset.shape"
   ]
  },
  {
   "cell_type": "code",
   "execution_count": null,
   "id": "d7f7a627-5976-48a7-90e7-e3205240fe18",
   "metadata": {},
   "outputs": [],
   "source": [
    "mssql_dataset[\" Label\"].value_counts()"
   ]
  },
  {
   "cell_type": "code",
   "execution_count": null,
   "id": "0e9fa812-179f-4252-948d-ec06ee0fc3e1",
   "metadata": {},
   "outputs": [],
   "source": [
    "# NetBIOS Dataset\n",
    "\n",
    "netbios_url = \"https://drive.google.com/uc?id=1wVe1KOqvNrbKkX-FxeX-k5dF0p-PvAYe\"\n",
    "netbios_file = \"NetBIOS.csv\""
   ]
  },
  {
   "cell_type": "code",
   "execution_count": null,
   "id": "28521d25-06f0-4b34-9dfb-468cb4c9a837",
   "metadata": {},
   "outputs": [],
   "source": [
    "gdown.download(netbios_url, netbios_file, quiet=False)"
   ]
  },
  {
   "cell_type": "code",
   "execution_count": null,
   "id": "bb87c321-1b76-47e0-b35c-39aae711dc0a",
   "metadata": {},
   "outputs": [],
   "source": [
    "# Loading the csv file\n",
    "\n",
    "netbios_dataset = pd.read_csv(netbios_file)"
   ]
  },
  {
   "cell_type": "code",
   "execution_count": null,
   "id": "4d7a2fd9-0e9b-4242-9f60-2d883c256452",
   "metadata": {},
   "outputs": [],
   "source": [
    "netbios_dataset.head()"
   ]
  },
  {
   "cell_type": "code",
   "execution_count": null,
   "id": "956d25ee-99b3-4f75-86b9-0d57f8df8501",
   "metadata": {},
   "outputs": [],
   "source": [
    "netbios_dataset.shape"
   ]
  },
  {
   "cell_type": "code",
   "execution_count": null,
   "id": "e8be2f1d-ad25-4cbb-b5d8-f7fb07c9c593",
   "metadata": {},
   "outputs": [],
   "source": [
    "netnios_dataset[\" Label\"].value_counts()"
   ]
  },
  {
   "cell_type": "code",
   "execution_count": null,
   "id": "143f61ea-53b3-430a-a490-d33184a1efc0",
   "metadata": {},
   "outputs": [],
   "source": [
    "# Portmap Dataset\n",
    "\n",
    "portmap_url = \"\"\n",
    "portmap_file = \"Portmap.csv\""
   ]
  },
  {
   "cell_type": "code",
   "execution_count": null,
   "id": "0b04da6c-416b-44be-8173-af9799cd0a1b",
   "metadata": {},
   "outputs": [],
   "source": [
    "gdown.download(portmap_url, portmap_file, quiet=False)"
   ]
  },
  {
   "cell_type": "code",
   "execution_count": null,
   "id": "e12af8da-c725-4551-9769-a9ece9922c05",
   "metadata": {},
   "outputs": [],
   "source": [
    "# Loading the csv file\n",
    "\n",
    "portmap-dataset = pd.read_csv(portmap_file)"
   ]
  },
  {
   "cell_type": "code",
   "execution_count": null,
   "id": "610cd699-d90d-470c-ae22-00ca09e3f090",
   "metadata": {},
   "outputs": [],
   "source": [
    "portmap_dataset.head()"
   ]
  },
  {
   "cell_type": "code",
   "execution_count": null,
   "id": "fdeb1bfb-57ca-4405-b2f4-a2b1d2d3507a",
   "metadata": {},
   "outputs": [],
   "source": [
    "portmap_dataset.shape"
   ]
  },
  {
   "cell_type": "code",
   "execution_count": null,
   "id": "6b42a277-5ef4-4415-a536-e2af801715f5",
   "metadata": {},
   "outputs": [],
   "source": [
    "portmap_dataset[\" Label\"].value_counts()"
   ]
  },
  {
   "cell_type": "code",
   "execution_count": null,
   "id": "4b00b24c-22d6-456e-bf2a-bb5a59ed0ea2",
   "metadata": {},
   "outputs": [],
   "source": [
    "# Syn Dataset\n",
    "\n",
    "syn_url = \"\"\n",
    "syn_file = \"Syn.csv\""
   ]
  },
  {
   "cell_type": "code",
   "execution_count": null,
   "id": "f3261108-76f6-44cd-ab6e-5ccd60befde9",
   "metadata": {},
   "outputs": [],
   "source": [
    "gdown.download(syn_url, syn_file, quiet=False)"
   ]
  },
  {
   "cell_type": "code",
   "execution_count": null,
   "id": "1a8a6cfd-7e9c-4f5e-a28e-a29d1fcb6aae",
   "metadata": {},
   "outputs": [],
   "source": [
    "# Loading the csv file\n",
    "\n",
    "syn_dataset = pd.read_csv(syn_file)"
   ]
  },
  {
   "cell_type": "code",
   "execution_count": null,
   "id": "b760d7af-4c6f-44d0-bb4f-b9ac2043774a",
   "metadata": {},
   "outputs": [],
   "source": [
    "syn_dataset.head()"
   ]
  },
  {
   "cell_type": "code",
   "execution_count": null,
   "id": "154321b7-65d9-4c4b-8ed1-dce746c40389",
   "metadata": {},
   "outputs": [],
   "source": [
    "syn_dataset.shape"
   ]
  },
  {
   "cell_type": "code",
   "execution_count": null,
   "id": "1d8c9831-2ad9-48d5-879c-358583e2e1fc",
   "metadata": {},
   "outputs": [],
   "source": [
    "syn_dataset[\" Label\"].value_counts()"
   ]
  },
  {
   "cell_type": "code",
   "execution_count": null,
   "id": "3b55d050-c0c5-4f0e-a24d-0411db1a1670",
   "metadata": {},
   "outputs": [],
   "source": [
    "# UDP Dataset\n",
    "\n",
    "udp_url = \"\"\n",
    "udp_file = \"UDP.csv\""
   ]
  },
  {
   "cell_type": "code",
   "execution_count": null,
   "id": "c19be29b-821b-4e9d-9e1c-1537fb183b94",
   "metadata": {},
   "outputs": [],
   "source": [
    "gdown.download(udp_url, udp_file, quiet=False)"
   ]
  },
  {
   "cell_type": "code",
   "execution_count": null,
   "id": "596a40bb-e6e8-42fc-8fc9-29a4209f0081",
   "metadata": {},
   "outputs": [],
   "source": [
    "# Loading the csv file\n",
    "\n",
    "udp_dataset = pd.read_csv(udp_file)"
   ]
  },
  {
   "cell_type": "code",
   "execution_count": null,
   "id": "2c90f555-8ac7-45e3-8926-ee3aa70598d7",
   "metadata": {},
   "outputs": [],
   "source": [
    "udp_dataset.head()"
   ]
  },
  {
   "cell_type": "code",
   "execution_count": null,
   "id": "130a752f-08f5-43ae-a638-e64de9348217",
   "metadata": {},
   "outputs": [],
   "source": [
    "udp_dataset.shape"
   ]
  },
  {
   "cell_type": "code",
   "execution_count": null,
   "id": "e829ab49-d713-4412-9d39-7dd715ac7df7",
   "metadata": {},
   "outputs": [],
   "source": [
    "udp_dataset[\" Label\"].value_counts()"
   ]
  },
  {
   "cell_type": "code",
   "execution_count": null,
   "id": "2f738a9c-3d05-445a-a944-ec30a3f81577",
   "metadata": {},
   "outputs": [],
   "source": [
    "# UDPLag Dataset\n",
    "\n",
    "udplag_url = \"\"\n",
    "udplad_file = \"UDPLag.csv\""
   ]
  },
  {
   "cell_type": "code",
   "execution_count": null,
   "id": "a12e425c-e30d-4149-adfb-a607f5665acb",
   "metadata": {},
   "outputs": [],
   "source": [
    "gdown.download(udplag_url, udplag_file, quiet=False)"
   ]
  },
  {
   "cell_type": "code",
   "execution_count": null,
   "id": "b7c22ad2-c8c3-4ade-8ab5-f0024d43df51",
   "metadata": {},
   "outputs": [],
   "source": [
    "# Loading the csv file\n",
    "\n",
    "udplad_dataset = pd.read_csv(udplad_file)"
   ]
  },
  {
   "cell_type": "code",
   "execution_count": null,
   "id": "fdf7f0ec-89cc-4fca-b427-6496dea90e40",
   "metadata": {},
   "outputs": [],
   "source": [
    "udplad_dataset.head()"
   ]
  },
  {
   "cell_type": "code",
   "execution_count": null,
   "id": "e34d656f-4187-4c59-8f41-576602e89e7f",
   "metadata": {},
   "outputs": [],
   "source": [
    "udplad_dataset.shape"
   ]
  },
  {
   "cell_type": "code",
   "execution_count": null,
   "id": "797cbe19-a919-4ec6-83de-e9bd517e2121",
   "metadata": {},
   "outputs": [],
   "source": [
    "udplad_dataset[\" Label\"].value_counts()"
   ]
  },
  {
   "cell_type": "markdown",
   "id": "2fbc3d9d-768a-4388-a496-743472813ec8",
   "metadata": {},
   "source": [
    "#### ====================  Clovis Mushagalusa CIRUBAKADERHA  ===================="
   ]
  },
  {
   "cell_type": "code",
   "execution_count": null,
   "id": "9b099dfd-36df-4d9c-bd01-949f93679cdc",
   "metadata": {},
   "outputs": [],
   "source": []
  }
 ],
 "metadata": {
  "kernelspec": {
   "display_name": "env1",
   "language": "python",
   "name": "env1"
  },
  "language_info": {
   "codemirror_mode": {
    "name": "ipython",
    "version": 3
   },
   "file_extension": ".py",
   "mimetype": "text/x-python",
   "name": "python",
   "nbconvert_exporter": "python",
   "pygments_lexer": "ipython3",
   "version": "3.12.8"
  }
 },
 "nbformat": 4,
 "nbformat_minor": 5
}
